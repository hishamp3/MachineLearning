{
 "cells": [
  {
   "cell_type": "markdown",
   "id": "6162d979",
   "metadata": {},
   "source": [
    "## Generative Model\n",
    "A generative model is a statistical model of the joint probability distribution P(X,Y) on given observable variable X and target variable Y.\n",
    "\n",
    "A generative model includes the distribution of the data itself, and tells you how likely a given example is. For example, models that predict the next word in a sequence are typically generative models (usually much simpler than GANs) because they can assign a probability to a sequence of words."
   ]
  },
  {
   "cell_type": "markdown",
   "id": "2f61b955",
   "metadata": {},
   "source": [
    "### Problem statement"
   ]
  },
  {
   "cell_type": "markdown",
   "id": "4def2568",
   "metadata": {},
   "source": [
    "Implement a Generative model which generates text characters based upon prior probability of the word length."
   ]
  },
  {
   "cell_type": "code",
   "execution_count": 1,
   "id": "4cccdc7e",
   "metadata": {},
   "outputs": [],
   "source": [
    "import string\n",
    "import re\n",
    "import numpy as np\n",
    "import matplotlib.pyplot as plt"
   ]
  },
  {
   "cell_type": "code",
   "execution_count": 2,
   "id": "9407fcee",
   "metadata": {},
   "outputs": [],
   "source": [
    "# No of words to generate\n",
    "generate_words_count = 3000"
   ]
  },
  {
   "cell_type": "code",
   "execution_count": 3,
   "id": "c964ba7c",
   "metadata": {},
   "outputs": [],
   "source": [
    "# Validate words\n",
    "def getvalid_words(allwords):\n",
    "    valid_words =[]\n",
    "    words_length = []\n",
    "    for word in allwords:\n",
    "        # alpha numeric words\n",
    "        if(word.isalnum()):\n",
    "            valid_words.append(word)\n",
    "            words_length.append(len(word))\n",
    "    return valid_words,words_length"
   ]
  },
  {
   "cell_type": "markdown",
   "id": "fa6d9f54",
   "metadata": {},
   "source": [
    "#### Word length probabilities is used as a prior probability for new text length generation"
   ]
  },
  {
   "cell_type": "code",
   "execution_count": 4,
   "id": "2001a8ad",
   "metadata": {},
   "outputs": [],
   "source": [
    "# compute input text word length probabilites \n",
    "def compute_len_probs(len_lst):\n",
    "    probs_len = []\n",
    "    freq_len = []\n",
    "    unique_lens = list(set(len_lst))\n",
    "    unique_lens.sort()\n",
    "    for value in unique_lens:\n",
    "        freq_len.append(len_lst.count(value))\n",
    "    probs_len = compute_probs(freq_len)\n",
    "    return probs_len"
   ]
  },
  {
   "cell_type": "markdown",
   "id": "c80451f7",
   "metadata": {},
   "source": [
    "#### character probabilities is used as a prior probability for new character generation"
   ]
  },
  {
   "cell_type": "code",
   "execution_count": 5,
   "id": "02b4db34",
   "metadata": {},
   "outputs": [],
   "source": [
    "# compute Input text character probabilites\n",
    "def compute_char_probs(word_lst,unique_chars):\n",
    "    freq_char =[]\n",
    "    chars = []\n",
    "    char_probs = []\n",
    "    overallText=\"\"\n",
    "    for word in word_lst:\n",
    "        overallText = overallText + str(word)      \n",
    "    for char in unique_chars:\n",
    "        if overallText.count(char) > 0:\n",
    "            chars.append(char)\n",
    "            freq_char.append(overallText.count(char))     \n",
    "    for value in freq_char:\n",
    "        char_probs.append( value/sum(freq_char))\n",
    "\n",
    "    return chars,char_probs"
   ]
  },
  {
   "cell_type": "code",
   "execution_count": 6,
   "id": "c5e7e294",
   "metadata": {},
   "outputs": [],
   "source": [
    "# generic probability calculation\n",
    "def compute_probs(lst):\n",
    "    probs=[]\n",
    "    total_sum = sum(lst)\n",
    "    for value in lst:\n",
    "        probs.append(value/total_sum)\n",
    "    return probs"
   ]
  },
  {
   "cell_type": "code",
   "execution_count": 7,
   "id": "5fab2d6d",
   "metadata": {},
   "outputs": [],
   "source": [
    "# generate words and store new words lengths\n",
    "def generate_words(probs_len ,chars ,char_probs,word_lengths):\n",
    "    global generate_words_count\n",
    "    overall_text=\"\"\n",
    "    gen_word_lens =[]\n",
    "    for n in range(0,generate_words_count):\n",
    "        word = \"\"\n",
    "        gen_len = np.random.choice(max(word_lengths),1,p=probs_len)\n",
    "        gen_chars = np.random.choice(chars ,gen_len, p=char_probs)\n",
    "        for c in gen_chars:\n",
    "            word += str(c)\n",
    "        gen_word_lens.append(len(word))\n",
    "        overall_text = overall_text + word + \" \"\n",
    "    return overall_text , gen_word_lens"
   ]
  },
  {
   "cell_type": "markdown",
   "id": "6dd0753f",
   "metadata": {},
   "source": [
    "#### Graph plot of Word lengh vs probability for Input text and the generated text."
   ]
  },
  {
   "cell_type": "code",
   "execution_count": 8,
   "id": "71852da5",
   "metadata": {},
   "outputs": [],
   "source": [
    "# graph plot of sample and generate text word length \n",
    "def graph_plot(input_word_probs,gen_word_probs,word_length):\n",
    "    plt.plot(np.arange(1,word_length+1),input_word_probs, 'b', label = 'sample text')\n",
    "    plt.plot(np.arange(1,word_length+1),gen_word_probs, 'r', label = 'generated text')\n",
    "    plt.xlabel('word length')\n",
    "    plt.ylabel('Probability')\n",
    "    plt.show()"
   ]
  },
  {
   "cell_type": "code",
   "execution_count": 9,
   "id": "1f04fbe9",
   "metadata": {},
   "outputs": [],
   "source": [
    "def main():\n",
    "    with open('./Text_sample.txt','r') as f:\n",
    "        content = f.read()\n",
    "        f.close()\n",
    "\n",
    "    # cleaning data\n",
    "    content = content.lower()\n",
    "    allwords = content.split(\" \")\n",
    "    valid_words , word_lengths = getvalid_words(allwords)\n",
    "\n",
    "    #sample-text word probability\n",
    "    length_probs = compute_len_probs(word_lengths)\n",
    "    \n",
    "    # regular expression\n",
    "    allchars = re.findall(\"[a-z0-9]\",content)\n",
    "    unique_chars = list(set(allchars))\n",
    "\n",
    "    #sample-text char probability\n",
    "    chars,char_probs = compute_char_probs(valid_words,unique_chars)\n",
    "\n",
    "    #generated-text\n",
    "    generated_text , gen_word_lengths = generate_words(length_probs,chars,char_probs,word_lengths)\n",
    "    gen_length_probs = compute_len_probs(gen_word_lengths)\n",
    "    f = open(\"Generated_words.txt\", \"w+\")\n",
    "    f.write(generated_text)\n",
    "    f.close()\n",
    "\n",
    "    graph_plot(length_probs,gen_length_probs,max(word_lengths))\n"
   ]
  },
  {
   "cell_type": "code",
   "execution_count": 10,
   "id": "c7f26ab4",
   "metadata": {},
   "outputs": [
    {
     "data": {
      "image/png": "[encoded data removed]",
      "text/plain": [
       "<Figure size 432x288 with 1 Axes>"
      ]
     },
     "metadata": {
      "needs_background": "light"
     },
     "output_type": "display_data"
    }
   ],
   "source": [
    "if __name__ == \"__main__\":\n",
    "    main()"
   ]
  },
  {
   "cell_type": "markdown",
   "id": "dced97e5",
   "metadata": {},
   "source": [
    "## Evaluate"
   ]
  },
  {
   "cell_type": "markdown",
   "id": "6e9c4edc",
   "metadata": {},
   "source": [
    "The word length from 2 to 4 is sensitivity and hence comparitively high variation . From length 4 the probability distribution is quite similar for Input and Generated text"
   ]
  },
  {
   "cell_type": "code",
   "execution_count": null,
   "id": "e1a9ad58",
   "metadata": {},
   "outputs": [],
   "source": []
  }
 ],
 "metadata": {
  "kernelspec": {
   "display_name": "Python 3 (ipykernel)",
   "language": "python",
   "name": "python3"
  },
  "language_info": {
   "codemirror_mode": {
    "name": "ipython",
    "version": 3
   },
   "file_extension": ".py",
   "mimetype": "text/x-python",
   "name": "python",
   "nbconvert_exporter": "python",
   "pygments_lexer": "ipython3",
   "version": "3.9.7"
  }
 },
 "nbformat": 4,
 "nbformat_minor": 5
}
